{
 "cells": [
  {
   "cell_type": "markdown",
   "metadata": {},
   "source": [
    "# Sample codes to precompute `shap_summary_dfs` and `shap_sample_dfs`\n",
    "\n",
    "The following shows samples codes to precompute `shap_summary_dfs` and `shap_sample_dfs` for the cases:\n",
    "- Regression\n",
    "- Binary classification\n",
    "- Multiclass classification\n",
    "\n",
    "Finally, save `shap_summary_dfs` and `shap_sample_dfs` as pickle."
   ]
  },
  {
   "cell_type": "code",
   "execution_count": null,
   "metadata": {},
   "outputs": [],
   "source": [
    "import sys\n",
    "sys.path.append(\"..\")\n",
    "\n",
    "from xai_fairness.toolkit import compute_shap_values\n",
    "from xai_fairness.preprocess import (\n",
    "    get_corrs_python,\n",
    "    get_mashap_python,\n",
    "    get_shap_summary_dfs,\n",
    "    sample_shap_df_python,\n",
    ")\n",
    "from constants import FEATURES"
   ]
  },
  {
   "cell_type": "markdown",
   "metadata": {},
   "source": [
    "## Regression example"
   ]
  },
  {
   "cell_type": "code",
   "execution_count": null,
   "metadata": {
    "scrolled": true
   },
   "outputs": [],
   "source": [
    "def predict_score(x):\n",
    "    #################################################\n",
    "    # Amend accordingly\n",
    "    score = model.predict(x)\n",
    "    #################################################\n",
    "    return score\n",
    "\n",
    "\n",
    "def get_shap(x):\n",
    "    #################################################\n",
    "    # Amend accordingly\n",
    "    all_shap_values, _ = compute_shap_values(x, ...)\n",
    "    #################################################\n",
    "    return all_shap_values\n",
    "\n",
    "\n",
    "# Compute correlation between prediction and features\n",
    "predictions = predict_score(valid[FEATURES])\n",
    "all_corrs = get_corrs_python(predictions, valid, FEATURES)\n",
    "\n",
    "# Compute mean(|shap_values|)\n",
    "all_shap_values = get_shap(valid[FEATURES])\n",
    "all_mashap, shap_df = get_mashap_python(all_shap_values, valid, FEATURES)\n",
    "\n",
    "shap_summary_dfs = get_shap_summary_dfs(all_corrs, all_mashap, FEATURES)\n"
   ]
  },
  {
   "cell_type": "markdown",
   "metadata": {},
   "source": [
    "## Binary classification example"
   ]
  },
  {
   "cell_type": "code",
   "execution_count": null,
   "metadata": {
    "scrolled": true
   },
   "outputs": [],
   "source": [
    "def predict_score(x):\n",
    "    #################################################\n",
    "    # Amend accordingly\n",
    "    score = model.predict_proba(x)[:, 1]\n",
    "    #################################################\n",
    "    return score\n",
    "\n",
    "\n",
    "def get_shap(x):\n",
    "    #################################################\n",
    "    # Amend accordingly\n",
    "    all_shap_values, _ = compute_shap_values(x, ...)\n",
    "    #################################################\n",
    "    return all_shap_values\n",
    "\n",
    "\n",
    "# Compute correlation between prediction and features\n",
    "predictions = predict_score(valid[FEATURES])\n",
    "all_corrs = get_corrs_python(predictions, valid, FEATURES)\n",
    "\n",
    "# Compute mean(|shap_values|)\n",
    "all_shap_values = get_shap(valid[FEATURES])\n",
    "all_mashap, shap_df = get_mashap_python(all_shap_values, valid, FEATURES)\n",
    "\n",
    "shap_summary_dfs = get_shap_summary_dfs(all_corrs, all_mashap, FEATURES)\n"
   ]
  },
  {
   "cell_type": "markdown",
   "metadata": {},
   "source": [
    "## Multiclass classification example"
   ]
  },
  {
   "cell_type": "code",
   "execution_count": null,
   "metadata": {
    "scrolled": true
   },
   "outputs": [],
   "source": [
    "def predict_score(x):\n",
    "    #################################################\n",
    "    # Amend accordingly\n",
    "    scores = model.predict_proba(x)\n",
    "    #################################################\n",
    "    return scores\n",
    "\n",
    "\n",
    "def get_shap(x):\n",
    "    #################################################\n",
    "    # Amend accordingly\n",
    "    all_shap_values, _ = compute_shap_values(x, ...)\n",
    "    #################################################\n",
    "    return all_shap_values\n",
    "\n",
    "\n",
    "# Compute correlation between prediction and features\n",
    "predictions = predict_score(valid[FEATURES])\n",
    "all_corrs = get_corrs_python(predictions, valid, FEATURES)\n",
    "\n",
    "# Compute mean(|shap_values|)\n",
    "all_shap_values = get_shap(valid[FEATURES])\n",
    "all_mashap, shap_df = get_mashap_python(all_shap_values, valid, FEATURES)\n",
    "\n",
    "shap_summary_dfs = get_shap_summary_dfs(all_corrs, all_mashap, FEATURES)\n"
   ]
  },
  {
   "cell_type": "markdown",
   "metadata": {},
   "source": [
    "## Save `shap_summary_dfs` and `shap_sample_dfs` as pickle"
   ]
  },
  {
   "cell_type": "code",
   "execution_count": null,
   "metadata": {},
   "outputs": [],
   "source": [
    "with open(\"shap_summary_dfs.pkl\", \"wb\") as f:\n",
    "    pickle.dump(shap_summary_dfs, f)"
   ]
  },
  {
   "cell_type": "code",
   "execution_count": null,
   "metadata": {},
   "outputs": [],
   "source": [
    "shap_sample_dfs = sample_shap_df(shap_df, FEATURES)\n",
    "with open(\"shap_sample_dfs.pkl\", \"wb\") as f:\n",
    "    pickle.dump(shap_sample_dfs, f)"
   ]
  },
  {
   "cell_type": "code",
   "execution_count": null,
   "metadata": {},
   "outputs": [],
   "source": []
  }
 ],
 "metadata": {
  "kernelspec": {
   "display_name": "Python 3",
   "language": "python",
   "name": "python3"
  },
  "language_info": {
   "codemirror_mode": {
    "name": "ipython",
    "version": 3
   },
   "file_extension": ".py",
   "mimetype": "text/x-python",
   "name": "python",
   "nbconvert_exporter": "python",
   "pygments_lexer": "ipython3",
   "version": "3.6.9"
  }
 },
 "nbformat": 4,
 "nbformat_minor": 2
}
